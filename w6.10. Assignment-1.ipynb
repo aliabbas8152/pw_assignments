{
 "cells": [
  {
   "cell_type": "markdown",
   "metadata": {},
   "source": [
    "### Q1. What is a database? Differentiate between SQL and NoSQL databases."
   ]
  },
  {
   "cell_type": "markdown",
   "metadata": {},
   "source": [
    "* Database:\n",
    "A database is a structured collection of data which is organized and stored in a way that makes it easy to manage, retrieve and update. We can manipulate database by using query languages. Databases are widely used in various applications, ranging from simple applications to large-scale systems, to store and manage data efficiently.\n",
    "\n",
    "* Difference between SQL and NoSQL databases:\n",
    "\n",
    "1. SQL databases have a fixed schema, while NoSQL databases are schema-less or have a flexible schema.\n",
    "\n",
    "2. SQL databases use the SQL query language for defining and manipulating data.\n",
    "While NoSQL databases may use different query languages, often specific to the database type (e.g., MongoDB uses a JavaScript-like query language).\n",
    "\n",
    "3. SQL databases typically scale vertically, while NoSQL databases scale horizontally.\n",
    "\n",
    "4. SQL databases are suitable for applications with complex queries and where data integrity is crucial (e.g., banking systems).\n",
    "While NoSQL databases are suitable for applications with large amounts of unstructured or semi-structured data, such as social media, content management, and real-time analytics."
   ]
  },
  {
   "cell_type": "code",
   "execution_count": null,
   "metadata": {},
   "outputs": [],
   "source": []
  },
  {
   "cell_type": "markdown",
   "metadata": {},
   "source": [
    "### Q2. What is DDL? Explain why CREATE, DROP, ALTER, and TRUNCATE are used with an example."
   ]
  },
  {
   "cell_type": "markdown",
   "metadata": {},
   "source": [
    "* DDL(Data Definition Language): DDL is a subset of SQL used for defining and managing the structure of a relational database. DDL statements are responsible for creating, altering, and deleting database objects such as tables, indexes, and views. The main DDL statements include `CREATE`, `DROP`, `ALTER`, and `TRUNCATE`.\n",
    "\n",
    "##### 1. CREATE:\n",
    "\n",
    "The `CREATE` statement is used to create new database objects. Commonly, it is used for creating tables, indexes, views, and other database structures.\n",
    "\n",
    "**Example - Creating a Table:**\n",
    "```sql\n",
    "CREATE TABLE employees (\n",
    "    id INT PRIMARY KEY,\n",
    "    name VARCHAR(255),\n",
    "    salary DECIMAL(10, 2)\n",
    ");\n",
    "```\n",
    "\n",
    "##### 2. DROP:\n",
    "\n",
    "The `DROP` statement is used to delete existing database objects. It removes the entire structure and data associated with the object.\n",
    "\n",
    "**Example - Dropping a Table:**\n",
    "```sql\n",
    "DROP TABLE employees;\n",
    "```\n",
    "\n",
    "##### 3. ALTER:\n",
    "\n",
    "The `ALTER` statement is used to modify the structure of an existing database object, such as adding or deleting columns from a table.\n",
    "\n",
    "**Example - Adding a Column to a Table:**\n",
    "```sql\n",
    "ALTER TABLE employees\n",
    "ADD COLUMN department VARCHAR(50);\n",
    "```\n",
    "\n",
    "##### 4. TRUNCATE:\n",
    "\n",
    "The `TRUNCATE` statement is used to remove all rows from a table quickly, but it retains the structure of the table for future use.\n",
    "\n",
    "**Example - Truncating a Table:**\n",
    "```sql\n",
    "TRUNCATE TABLE employees;\n",
    "```\n",
    "\n"
   ]
  },
  {
   "cell_type": "code",
   "execution_count": null,
   "metadata": {},
   "outputs": [],
   "source": []
  },
  {
   "cell_type": "markdown",
   "metadata": {},
   "source": [
    "### Q3. What is DML? Explain INSERT, UPDATE, and DELETE with an example."
   ]
  },
  {
   "cell_type": "markdown",
   "metadata": {},
   "source": [
    "* DML(Data Manipulation Language): DML is a subset of SQL used for manipulating data stored in a relational database. DML statements primarily include `INSERT`, `UPDATE`, and `DELETE`, and they are responsible for adding, modifying, and deleting data within database tables.\n",
    "\n",
    "##### 1. INSERT:\n",
    "\n",
    "The `INSERT` statement is used to add new records (rows) into a table.\n",
    "\n",
    "**Example - Inserting Data into a Table:**\n",
    "```sql\n",
    "INSERT INTO employees (id, name, salary)\n",
    "VALUES (1, 'John Doe', 50000);\n",
    "```\n",
    "\n",
    "##### 2. UPDATE:\n",
    "\n",
    "The `UPDATE` statement is used to modify existing records in a table.\n",
    "\n",
    "**Example - Updating Data in a Table:**\n",
    "```sql\n",
    "UPDATE employees\n",
    "SET salary = 55000\n",
    "WHERE id = 1;\n",
    "```\n",
    "\n",
    "##### 3. DELETE:\n",
    "\n",
    "The `DELETE` statement is used to remove records from a table based on specified conditions.\n",
    "\n",
    "**Example - Deleting Data from a Table:**\n",
    "```sql\n",
    "DELETE FROM employees\n",
    "WHERE id = 1;\n",
    "```\n"
   ]
  },
  {
   "cell_type": "code",
   "execution_count": null,
   "metadata": {},
   "outputs": [],
   "source": []
  },
  {
   "cell_type": "markdown",
   "metadata": {},
   "source": [
    "### Q4. What is DQL? Explain SELECT with an example."
   ]
  },
  {
   "cell_type": "markdown",
   "metadata": {},
   "source": [
    "* DQL(Data Query Language) DQL is a subset of SQL used for querying and retrieving data from a relational database. The primary DQL statement is `SELECT`, which allows you to retrieve specific data or a subset of data from one or more tables.\n",
    "\n",
    "#### SELECT Statement:\n",
    "\n",
    "The `SELECT` statement is used to query a database and retrieve data based on specified criteria. It can be used to retrieve all rows and columns from a table or to filter the result set based on specific conditions.\n",
    "\n",
    "##### Basic SELECT Syntax:\n",
    "\n",
    "```sql\n",
    "SELECT column1, column2, ...\n",
    "FROM table_name\n",
    "WHERE condition;\n",
    "```\n",
    "```python\n",
    "\n",
    "```\n",
    "**Example - Selecting All Columns from a Table:**\n",
    "```sql\n",
    "SELECT *\n",
    "FROM employees;\n",
    "```\n",
    "In this example, all columns from the \"employees\" table will be retrieved.\n",
    "```python\n",
    "\n",
    "```\n",
    "**Example - Selecting Specific Columns with a Condition:**\n",
    "```sql\n",
    "SELECT id, name, salary\n",
    "FROM employees\n",
    "WHERE salary > 50000;\n",
    "```\n",
    "This example retrieves the `id`, `name`, and `salary` columns from the \"employees\" table for rows where the salary is greater than 50000.\n",
    "```python\n",
    "\n",
    "```\n",
    "**Example - Aggregate Functions and Grouping:**\n",
    "```sql\n",
    "SELECT department, AVG(salary) as average_salary\n",
    "FROM employees\n",
    "GROUP BY department;\n",
    "```\n",
    "This example calculates the average salary for each department in the \"employees\" table using the `AVG` aggregate function and grouping by the `department` column.\n",
    "```python\n",
    "\n",
    "```\n",
    "**Example - Joining Tables:**\n",
    "```sql\n",
    "SELECT employees.id, employees.name, departments.department_name\n",
    "FROM employees\n",
    "JOIN departments ON employees.department_id = departments.id;\n",
    "```\n",
    "This example performs an inner join between the \"employees\" and \"departments\" tables based on the `department_id` and `id` columns, respectively.\n"
   ]
  },
  {
   "cell_type": "code",
   "execution_count": null,
   "metadata": {},
   "outputs": [],
   "source": []
  },
  {
   "cell_type": "markdown",
   "metadata": {},
   "source": [
    "### Q5. Explain Primary Key and Foreign Key."
   ]
  },
  {
   "cell_type": "markdown",
   "metadata": {},
   "source": [
    "**Primary Key:**\n",
    "A primary key is a unique identifier for a record in a database table. It uniquely identifies each row and ensures the integrity and uniqueness of the data. Here are key characteristics of a primary key:\n",
    "\n",
    "1. **Uniqueness:** Each value in the primary key column must be unique across the entire table. No two rows can have the same primary key value.\n",
    "\n",
    "2. **Non-null:** The primary key column cannot contain null values. Every row must have a valid, non-null primary key.\n",
    "\n",
    "3. **Index:** Primary keys are often automatically indexed by the database management system (DBMS) to optimize search and retrieval operations.\n",
    "\n",
    "4. **Immutable:** The values in the primary key should ideally be immutable, meaning they should not change over time. This ensures stability in the identification of records.\n",
    "\n",
    "**Example:**\n",
    "```sql\n",
    "CREATE TABLE employees (\n",
    "    employee_id INT PRIMARY KEY,\n",
    "    name VARCHAR(255),\n",
    "    department_id INT\n",
    ");\n",
    "```\n",
    "\n",
    "In this example, `employee_id` is the primary key for the \"employees\" table.\n",
    "```python\n",
    "\n",
    "```\n",
    "**Foreign Key:**\n",
    "A foreign key is a column or a set of columns in a table that refers to the primary key of another table. It establishes a link between the two tables, creating a relationship. Key points about foreign keys:\n",
    "\n",
    "1. **Referential Integrity:** A foreign key enforces referential integrity by ensuring that the values in the foreign key column(s) match the values in the primary key column(s) of the referenced table.\n",
    "\n",
    "2. **Relationships:** Foreign keys define relationships between tables. For example, in a relational database, an \"orders\" table might have a foreign key that references the primary key of a \"customers\" table.\n",
    "\n",
    "3. **Cascade Actions:** Foreign keys can be configured with cascade actions such as `CASCADE DELETE` or `CASCADE UPDATE`. If a referenced record is deleted or updated, the corresponding action is automatically applied to related records.\n",
    "\n",
    "**Example:**\n",
    "```sql\n",
    "CREATE TABLE orders (\n",
    "    order_id INT PRIMARY KEY,\n",
    "    customer_id INT,\n",
    "    order_date DATE,\n",
    "    FOREIGN KEY (customer_id) REFERENCES customers(customer_id)\n",
    ");\n",
    "```\n",
    "\n",
    "In this example, `customer_id` in the \"orders\" table is a foreign key that references the primary key `customer_id` in the \"customers\" table.\n"
   ]
  },
  {
   "cell_type": "code",
   "execution_count": null,
   "metadata": {},
   "outputs": [],
   "source": []
  },
  {
   "cell_type": "markdown",
   "metadata": {},
   "source": [
    "### Q6. Write a python code to connect MySQL to python. Explain the cursor() and execute() method."
   ]
  },
  {
   "cell_type": "code",
   "execution_count": 1,
   "metadata": {},
   "outputs": [
    {
     "name": "stdout",
     "output_type": "stream",
     "text": [
      "('information_schema',)\n",
      "('mysql',)\n",
      "('performance_schema',)\n",
      "('sys',)\n"
     ]
    }
   ],
   "source": [
    "# To connect Python to MySQL, you can use the `mysql-connector` library, which provides a MySQL driver for Python. \n",
    "import mysql.connector\n",
    "\n",
    "# Establishes a connection to the MySQL server using the provided database configuration.\n",
    "mydb = mysql.connector.connect(host=\"localhost\", user=\"root\", password=\"aliabbas\")   \n",
    "\n",
    "# Create a cursor object to interact with the database\n",
    "mycursor = mydb.cursor()  \n",
    "\n",
    "# Execute a SQL query\n",
    "mycursor.execute(\"SHOW DATABASES\")\n",
    "\n",
    "# Fetch the result\n",
    "for x in mycursor.fetchall():\n",
    "    print(x)\n"
   ]
  },
  {
   "cell_type": "markdown",
   "metadata": {},
   "source": [
    "* The `execute()` method is used to execute a SQL query or command. It takes a SQL string as an argument and sends it to the MySQL server for execution. The result of the query can then be fetched using methods like `fetchall()`.\n",
    "\n",
    "* The `cursor()` method is used to create a cursor object. The cursor is a control structure that enables traversal over the records in a database. It allows you to execute SQL queries and fetch results."
   ]
  },
  {
   "cell_type": "code",
   "execution_count": null,
   "metadata": {},
   "outputs": [],
   "source": []
  },
  {
   "cell_type": "markdown",
   "metadata": {},
   "source": [
    "### Q7. Give the order of execution of SQL clauses in an SQL query."
   ]
  },
  {
   "cell_type": "markdown",
   "metadata": {},
   "source": [
    "The order of execution of SQL clauses in an SQL query generally follows the sequence listed below. It's important to note that not all clauses are mandatory in every SQL statement, and their presence or absence depends on the specific query being executed.\n",
    "\n",
    "1. **SELECT:**\n",
    "   - The `SELECT` clause specifies the columns that should be included in the result set.\n",
    "\n",
    "2. **FROM:**\n",
    "   - The `FROM` clause specifies the table or tables from which the data should be retrieved.\n",
    "\n",
    "3. **WHERE:**\n",
    "   - The `WHERE` clause filters the rows based on a specified condition or conditions. It is used to extract only the rows that satisfy the given criteria.\n",
    "\n",
    "4. **GROUP BY:**\n",
    "   - The `GROUP BY` clause is used to group rows that have the same values in specified columns into summary rows, like those returned by aggregate functions.\n",
    "\n",
    "5. **HAVING:**\n",
    "   - The `HAVING` clause filters the result set after the `GROUP BY` clause has been applied. It is used to filter the groups based on aggregate conditions.\n",
    "\n",
    "6. **ORDER BY:**\n",
    "   - The `ORDER BY` clause sorts the result set based on one or more columns. It can be used to sort in ascending (`ASC`) or descending (`DESC`) order.\n",
    "\n",
    "7. **LIMIT:**\n",
    "   - The `LIMIT` clause restricts the number of rows returned by the query to a specified range. It is commonly used for pagination or to limit the result set.\n",
    "\n",
    "8. **OFFSET:**\n",
    "   - The `OFFSET` clause, often used in conjunction with `LIMIT`, specifies the number of rows to skip before starting to return rows.\n",
    "\n",
    "Below is a simple example of a SELECT statement with the typical order of clauses:\n",
    "\n",
    "```sql\n",
    "SELECT column1, column2\n",
    "FROM your_table\n",
    "WHERE condition\n",
    "GROUP BY column1\n",
    "HAVING aggregate_condition\n",
    "ORDER BY column1 ASC\n",
    "LIMIT 10\n",
    "OFFSET 5;\n",
    "```"
   ]
  },
  {
   "cell_type": "code",
   "execution_count": null,
   "metadata": {},
   "outputs": [],
   "source": []
  }
 ],
 "metadata": {
  "kernelspec": {
   "display_name": "Python 3",
   "language": "python",
   "name": "python3"
  },
  "language_info": {
   "codemirror_mode": {
    "name": "ipython",
    "version": 3
   },
   "file_extension": ".py",
   "mimetype": "text/x-python",
   "name": "python",
   "nbconvert_exporter": "python",
   "pygments_lexer": "ipython3",
   "version": "3.10.11"
  }
 },
 "nbformat": 4,
 "nbformat_minor": 2
}
