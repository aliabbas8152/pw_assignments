{
 "cells": [
  {
   "cell_type": "markdown",
   "metadata": {},
   "source": [
    "### Q1. How do you comment code in Python? What are the different types of comments?"
   ]
  },
  {
   "cell_type": "markdown",
   "metadata": {},
   "source": [
    "Ans. To Comment in python we can use a special character Hash(#) before the comment.\n",
    "Which will create a single line comment that python's interpreter will ignore during the execution of the code."
   ]
  },
  {
   "cell_type": "code",
   "execution_count": 1,
   "metadata": {},
   "outputs": [
    {
     "name": "stdout",
     "output_type": "stream",
     "text": [
      "Hello, this is Ali Abbas\n"
     ]
    }
   ],
   "source": [
    "# Hi, this is an example of single line comment\n",
    "\n",
    "print(\"Hello, this is Ali Abbas\")"
   ]
  },
  {
   "cell_type": "markdown",
   "metadata": {},
   "source": [
    "To create a multi line comment we can use three single quotes(''') or three double quotes(\"\"\")."
   ]
  },
  {
   "cell_type": "code",
   "execution_count": 2,
   "metadata": {},
   "outputs": [
    {
     "name": "stdout",
     "output_type": "stream",
     "text": [
      "Ciao!.\n"
     ]
    }
   ],
   "source": [
    "''' Above was the example of single line comment.\n",
    "And this is an example of the multiline comment'''\n",
    "\n",
    "\"\"\" You probably know this. \n",
    "That we can write as many lines as we want.\"\"\"\n",
    "\n",
    "print(\"Ciao!\")"
   ]
  },
  {
   "cell_type": "markdown",
   "metadata": {},
   "source": [
    "```python\n",
    "\n",
    "\n",
    "```\n",
    "### Q2. What are variables in Python? How do you declare and assign values to variables?"
   ]
  },
  {
   "cell_type": "markdown",
   "metadata": {},
   "source": [
    "Variables are named reference that store any type of values in memory. for example variables are the container which stoes something. We can create a variable by using the assignment operator (=) to assign some value to it."
   ]
  },
  {
   "cell_type": "code",
   "execution_count": 3,
   "metadata": {},
   "outputs": [],
   "source": [
    "number = 10   # Created a variable named number and assigned an integer value 10\n",
    "word = \"Science\"    # Created a variable named word and assigned a string value Science\n",
    "\n",
    "decimel_number = 2.214  # Created a variable named decimel_number and assigned a float value 2.214\n",
    "\n"
   ]
  },
  {
   "cell_type": "markdown",
   "metadata": {},
   "source": [
    "There are some rules for naming variables in Python, such as:\n",
    "\n",
    "1. A variable name must start with a letter or the underscore character _.\n",
    "2. A variable name cannot start with a number.\n",
    "3. A variable name can only contain alpha-numeric characters and underscores (A-z, 0-9, and _ ).\n",
    "4. Variable names are case-sensitive (x, X, and x_ are different variables)."
   ]
  },
  {
   "cell_type": "markdown",
   "metadata": {},
   "source": [
    "```python\n",
    "\n",
    "\n",
    "```\n",
    "### Q3. How do you convert one data type to another in Python?"
   ]
  },
  {
   "cell_type": "markdown",
   "metadata": {},
   "source": [
    "To convert one data type to another data type, we use built-in functions or type constructor. This is also called Typecasting."
   ]
  },
  {
   "cell_type": "code",
   "execution_count": 1,
   "metadata": {},
   "outputs": [
    {
     "name": "stdout",
     "output_type": "stream",
     "text": [
      "This is an integer value 10.\n",
      "This is a floating point number 10.0.\n"
     ]
    }
   ],
   "source": [
    "x = 10                                      # variable x is storing an integer value\n",
    "print(f\"This is an integer value {x}.\")     # displaying the integer value\n",
    "\n",
    "y = float(x)                                        # Typecasting\n",
    "print(f\"This is a floating point number {y}.\")      # Displaying the converted value"
   ]
  },
  {
   "cell_type": "markdown",
   "metadata": {},
   "source": [
    "Some of the built-in functions to convert the data type are as follows:\n",
    "1. int()\n",
    "2. float()\n",
    "3. str()\n",
    "4. list()\n",
    "5. tuple()\n",
    "6. set()   etc.\n",
    "\n",
    "We convert the data type by passing an argument into the built-in functions."
   ]
  },
  {
   "cell_type": "markdown",
   "metadata": {},
   "source": [
    "```python\n",
    "\n",
    "\n",
    "```\n",
    "### Q4. How do you write and execute a Python script from the command line?"
   ]
  },
  {
   "cell_type": "markdown",
   "metadata": {},
   "source": [
    "1. Make sure you have Python installed on your system and you can access it from the command line by typing python or python3.\n",
    "2. Write your Python code in a text editor and save it with a .py extension, such as hello.py.\n",
    "3. Open the command line and navigate to the directory where your script is located.\n",
    "4. Type python hello.py or python3 hello.py to run your script. You should see the output of your script on the command line.\n",
    "5. Optionally, you can redirect the output of your script to a file by using the > operator, such as python hello.py > output.txt."
   ]
  },
  {
   "cell_type": "markdown",
   "metadata": {},
   "source": [
    "```python\n",
    "\n",
    "\n",
    "```\n",
    "### Q5. Given a list my_list = [1, 2, 3, 4, 5], write the code to slice the list and obtain the sub-list [2, 3]."
   ]
  },
  {
   "cell_type": "code",
   "execution_count": 20,
   "metadata": {},
   "outputs": [
    {
     "name": "stdout",
     "output_type": "stream",
     "text": [
      "[2, 3]\n",
      "[2, 3]\n",
      "[2]\n"
     ]
    }
   ],
   "source": [
    "my_list = [1,2,3,4,5]          # list containing multiple values\n",
    "\n",
    "# Slicing to get a sub-list [2,3]\n",
    "print(my_list[1:3])\n",
    "\n",
    "print(my_list[-4:-2])\n"
   ]
  },
  {
   "cell_type": "markdown",
   "metadata": {},
   "source": [
    "```python\n",
    "\n",
    "\n",
    "```\n",
    "### Q6. What is a complex number in mathematics, and how is it represented in Python?"
   ]
  },
  {
   "cell_type": "markdown",
   "metadata": {},
   "source": [
    "A complex number in mathematics is a number that can be expressed in the form a + bi, where a and b are real numbers and i is the imaginary unit that satisfies the equation. \n",
    "\n",
    "In Python, you can create a complex number by using the complex() function or by using a direct assignment statement with the letter j to indicate the imaginary part. For example:"
   ]
  },
  {
   "cell_type": "code",
   "execution_count": 22,
   "metadata": {},
   "outputs": [
    {
     "name": "stdout",
     "output_type": "stream",
     "text": [
      "(4+5j)\n",
      "(-5+2j)\n"
     ]
    }
   ],
   "source": [
    "x = complex(4, 5)     # creating a complex number 4 + 5j using the complex() function\n",
    "print(x)              # displaying the complex number \n",
    "\n",
    "y = -5 + 2j           # creating a complex number -5 + 2j using the direct assignment\n",
    "print(y)              # displaying the complex number"
   ]
  },
  {
   "cell_type": "markdown",
   "metadata": {},
   "source": [
    "You can access the real and imaginary parts of a complex number by using the real and imag attributes. You can also get the conjugate of a complex number by using the conjugate() method5. For example:"
   ]
  },
  {
   "cell_type": "code",
   "execution_count": 23,
   "metadata": {},
   "outputs": [
    {
     "name": "stdout",
     "output_type": "stream",
     "text": [
      "2.0\n",
      "3.0\n",
      "(2-3j)\n"
     ]
    }
   ],
   "source": [
    "x = 2 + 3j                        # a complex number\n",
    "print(x.real)                     # print the real part of x, which is 2.0\n",
    "print(x.imag)                     # print the imaginary part of x, which is 3.0\n",
    "print(x.conjugate())              # print the conjugate of x, which is 2 - 3j"
   ]
  },
  {
   "cell_type": "markdown",
   "metadata": {},
   "source": [
    "```python\n",
    "\n",
    "\n",
    "```\n",
    "### Q7. What is the correct way to declare a variable named age and assign the value 25 to it?"
   ]
  },
  {
   "cell_type": "markdown",
   "metadata": {},
   "source": [
    "The correct way to declare a variable named age and assign the value 25 to it is:"
   ]
  },
  {
   "cell_type": "code",
   "execution_count": 26,
   "metadata": {},
   "outputs": [
    {
     "name": "stdout",
     "output_type": "stream",
     "text": [
      "25\n"
     ]
    }
   ],
   "source": [
    "age = 25    # declaring and assigning a variable named age with the value 25\n",
    "\n",
    "print(age)   # displaying the value of age"
   ]
  },
  {
   "cell_type": "markdown",
   "metadata": {},
   "source": [
    "```python\n",
    "\n",
    "\n",
    "```\n",
    "### Q8. Declare a variable named price and assign the value 9.99 to it. What data type does this variable belong to?"
   ]
  },
  {
   "cell_type": "code",
   "execution_count": 30,
   "metadata": {},
   "outputs": [
    {
     "data": {
      "text/plain": [
       "float"
      ]
     },
     "execution_count": 30,
     "metadata": {},
     "output_type": "execute_result"
    }
   ],
   "source": [
    "price = 9.99    # declaring and assigning a variable named price with the value 9.99\n",
    "\n",
    "\n",
    "type(price)     # displaying the type of the variable price "
   ]
  },
  {
   "cell_type": "markdown",
   "metadata": {},
   "source": [
    "```python\n",
    "\n",
    "\n",
    "```\n",
    "### Q9. Create a variable named name and assign your full name to it as a string. How would you print the value of this variable?"
   ]
  },
  {
   "cell_type": "code",
   "execution_count": 39,
   "metadata": {},
   "outputs": [
    {
     "name": "stdout",
     "output_type": "stream",
     "text": [
      "My name is  Ali Abbas\n",
      "My name is  Ali Abbas\n",
      "My name is  Ali Abbas\n"
     ]
    }
   ],
   "source": [
    "name = \" Ali Abbas\"                      # declaring and assigning a variable named name with the value of string \"Ali Abbas\"\n",
    "\n",
    "\n",
    "# displaying the value with various methods\n",
    "\n",
    "print(\"My name is\", name)\n",
    "\n",
    "print(f\"My name is {name}\")\n",
    "\n",
    "print(\"My name is {}\".format(name))"
   ]
  },
  {
   "cell_type": "markdown",
   "metadata": {},
   "source": [
    "```python\n",
    "\n",
    "\n",
    "```\n",
    "### Q10. Given the string \"Hello, World!\", extract the substring \"World\"."
   ]
  },
  {
   "cell_type": "code",
   "execution_count": 42,
   "metadata": {},
   "outputs": [
    {
     "name": "stdout",
     "output_type": "stream",
     "text": [
      "World\n",
      "World\n"
     ]
    }
   ],
   "source": [
    "str = \"Hello, World!\"          # declaring and assigning a variable named str with the value of string \"Hello, World!\" \n",
    "\n",
    "\n",
    "#  displaying the value World by extracting from variable str with various methods\n",
    "\n",
    "print(str[7:12])\n",
    "\n",
    "print(str[-6:-1])"
   ]
  },
  {
   "cell_type": "markdown",
   "metadata": {},
   "source": [
    "```python\n",
    "\n",
    "\n",
    "```\n",
    "### Q11. Create a variable named \"is_student\" and assign it a boolean value indicating whether you are currently a student or not."
   ]
  },
  {
   "cell_type": "code",
   "execution_count": 45,
   "metadata": {},
   "outputs": [
    {
     "name": "stdout",
     "output_type": "stream",
     "text": [
      "True\n"
     ]
    }
   ],
   "source": [
    "is_student = True           # declaring and assigning a variable named is_student with the value True\n",
    "\n",
    "print(is_student)           # displaying the result "
   ]
  },
  {
   "cell_type": "code",
   "execution_count": null,
   "metadata": {},
   "outputs": [],
   "source": []
  }
 ],
 "metadata": {
  "kernelspec": {
   "display_name": ".venv",
   "language": "python",
   "name": "python3"
  },
  "language_info": {
   "codemirror_mode": {
    "name": "ipython",
    "version": 3
   },
   "file_extension": ".py",
   "mimetype": "text/x-python",
   "name": "python",
   "nbconvert_exporter": "python",
   "pygments_lexer": "ipython3",
   "version": "3.10.11"
  },
  "orig_nbformat": 4
 },
 "nbformat": 4,
 "nbformat_minor": 2
}
