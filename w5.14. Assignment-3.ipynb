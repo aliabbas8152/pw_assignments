{
 "cells": [
  {
   "cell_type": "markdown",
   "metadata": {},
   "source": [
    "### Q1. What is multithreading in python? Why is it used? Name the module used to handle threads in python."
   ]
  },
  {
   "cell_type": "markdown",
   "metadata": {},
   "source": [
    "* Multithreading in Python involves the concurrent execution of multiple threads, which are the smallest unit of a process that can be scheduled for execution by the operating system.\n",
    "* It is used to achieve concurrent execution of tasks, making it useful for I/O-bound operations or situations where you want to improve the responsiveness of a program.\n",
    "* The 'threading' module is used to handle threads in Python."
   ]
  },
  {
   "cell_type": "code",
   "execution_count": null,
   "metadata": {},
   "outputs": [],
   "source": []
  },
  {
   "cell_type": "markdown",
   "metadata": {},
   "source": [
    "### Q2. Why threading module used? Write the use of the following functions:\n",
    "#### 1. activeCount()\n",
    "#### 2. currentThread()\n",
    "#### 3. enumerate()"
   ]
  },
  {
   "cell_type": "markdown",
   "metadata": {},
   "source": [
    "The 'threading' module in Python is used for working with threads. It provides a way to create, manage, and synchronize threads in a program. "
   ]
  },
  {
   "cell_type": "code",
   "execution_count": 6,
   "metadata": {},
   "outputs": [
    {
     "name": "stdout",
     "output_type": "stream",
     "text": [
      "Number of active threads: 6\n"
     ]
    },
    {
     "name": "stderr",
     "output_type": "stream",
     "text": [
      "C:\\Users\\aliab\\AppData\\Local\\Temp\\ipykernel_18652\\527497786.py:3: DeprecationWarning: activeCount() is deprecated, use active_count() instead\n",
      "  print(\"Number of active threads:\", threading.activeCount())\n"
     ]
    }
   ],
   "source": [
    "import threading\n",
    "\n",
    "print(\"Number of active threads:\", threading.activeCount())\n"
   ]
  },
  {
   "cell_type": "markdown",
   "metadata": {},
   "source": [
    "2. currentThread(): This function is used to get the current Thread object, corresponding to the caller's thread of control. For example:\n"
   ]
  },
  {
   "cell_type": "code",
   "execution_count": 7,
   "metadata": {},
   "outputs": [
    {
     "name": "stdout",
     "output_type": "stream",
     "text": [
      "Current Thread Name: MainThread\n"
     ]
    },
    {
     "name": "stderr",
     "output_type": "stream",
     "text": [
      "C:\\Users\\aliab\\AppData\\Local\\Temp\\ipykernel_18652\\3386351770.py:3: DeprecationWarning: currentThread() is deprecated, use current_thread() instead\n",
      "  current_thread = threading.currentThread()\n",
      "C:\\Users\\aliab\\AppData\\Local\\Temp\\ipykernel_18652\\3386351770.py:4: DeprecationWarning: getName() is deprecated, get the name attribute instead\n",
      "  print(\"Current Thread Name:\", current_thread.getName())\n"
     ]
    }
   ],
   "source": [
    "import threading\n",
    "\n",
    "current_thread = threading.currentThread()\n",
    "print(\"Current Thread Name:\", current_thread.getName())\n"
   ]
  },
  {
   "cell_type": "markdown",
   "metadata": {},
   "source": [
    "3. enumerate(): This function is used to return a list of all Thread objects currently alive. For example:\n"
   ]
  },
  {
   "cell_type": "code",
   "execution_count": 8,
   "metadata": {},
   "outputs": [
    {
     "name": "stdout",
     "output_type": "stream",
     "text": [
      "Thread 1\n",
      "Thread 2\n",
      "All Threads: [<_MainThread(MainThread, started 3776)>, <Thread(IOPub, started daemon 20292)>, <Heartbeat(Heartbeat, started daemon 18516)>, <ControlThread(Control, started daemon 15484)>, <HistorySavingThread(IPythonHistorySavingThread, started 7420)>, <ParentPollerWindows(Thread-4, started daemon 9800)>]\n"
     ]
    }
   ],
   "source": [
    "import threading\n",
    "\n",
    "# Create some threads\n",
    "thread1 = threading.Thread(target=lambda: print(\"Thread 1\"))\n",
    "thread2 = threading.Thread(target=lambda: print(\"Thread 2\"))\n",
    "\n",
    "# Start the threads\n",
    "thread1.start()\n",
    "thread2.start()\n",
    "\n",
    "# Enumerate all active threads\n",
    "all_threads = threading.enumerate()\n",
    "print(\"All Threads:\", all_threads)\n"
   ]
  },
  {
   "cell_type": "code",
   "execution_count": null,
   "metadata": {},
   "outputs": [],
   "source": []
  },
  {
   "cell_type": "markdown",
   "metadata": {},
   "source": [
    "### Q3. Explain the following functions:\n",
    "#### 1. run()\n",
    "#### 2. start()\n",
    "#### 3. join()\n",
    "#### 4. isAlive()"
   ]
  },
  {
   "cell_type": "markdown",
   "metadata": {},
   "source": [
    "1. run(): This method represents the entry point for the thread's activity. You should override this method in a subclass to define the code that will be executed when the thread is started.\n",
    "\n",
    "2. start(): This method is used to start the execution of the thread by invoking its run() method in a separate thread.\n",
    "\n",
    "3. join(): This method is used to wait for the thread to complete its execution. It blocks the calling thread until the thread whose join() method is called is terminated.\n",
    "\n",
    "4. isAlive(): This method is used to check whether the thread is alive or has been terminated."
   ]
  },
  {
   "cell_type": "code",
   "execution_count": null,
   "metadata": {},
   "outputs": [],
   "source": []
  },
  {
   "cell_type": "markdown",
   "metadata": {},
   "source": [
    "### Q4. Write a python program to create two threads. Thread one must print the list of squares and thread two must print the list of cubes."
   ]
  },
  {
   "cell_type": "code",
   "execution_count": 15,
   "metadata": {},
   "outputs": [
    {
     "name": "stdout",
     "output_type": "stream",
     "text": [
      "List of Squares:  [1, 4, 9, 16, 25, 36, 49, 64, 81]\n",
      "List of Cubes:  [1, 8, 27, 64, 125, 216, 343, 512, 729]\n",
      "Both threads have finished.\n"
     ]
    }
   ],
   "source": [
    "import threading\n",
    "\n",
    "def print_squares():\n",
    "    squares = []                 # can also use list comprehension like [x**2 for x in range(1, 6)]\n",
    "    for x in range(1, 10):\n",
    "        sq = x**2\n",
    "        squares.append(sq)\n",
    "    print(\"List of Squares: \", squares)\n",
    "\n",
    "def print_cubes():\n",
    "    cubes = []                   # can also use list comprehension like [x**3 for x in range(1, 6)]\n",
    "    for x in range(1,10):\n",
    "        c = x**3\n",
    "        cubes.append(c)\n",
    "    print(\"List of Cubes: \", cubes)\n",
    "\n",
    "# Create the threads\n",
    "thread1 = threading.Thread(target=print_squares)\n",
    "thread2 = threading.Thread(target=print_cubes)\n",
    "\n",
    "# Start the threads\n",
    "thread1.start()\n",
    "thread2.start()\n",
    "\n",
    "# Wait for both threads to finish\n",
    "thread1.join()\n",
    "thread2.join()\n",
    "\n",
    "print(\"Both threads have finished.\")\n"
   ]
  },
  {
   "cell_type": "code",
   "execution_count": null,
   "metadata": {},
   "outputs": [],
   "source": []
  },
  {
   "cell_type": "markdown",
   "metadata": {},
   "source": [
    "### Q5. State advantages and disadvantages of multithreading."
   ]
  },
  {
   "cell_type": "markdown",
   "metadata": {},
   "source": [
    "#### Advantages of Multithreading:\n",
    "\n",
    "1. **Concurrency:** Multithreading allows multiple threads to execute concurrently, which can lead to improved overall performance and responsiveness, especially in tasks that involve waiting for I/O operations.\n",
    "\n",
    "2. **Parallelism:** In scenarios where tasks can be genuinely parallelized (not limited by the Global Interpreter Lock in CPython), multithreading can take advantage of multiple CPU cores, leading to faster execution of CPU-bound tasks.\n",
    "\n",
    "3. **Responsiveness:** Multithreading is beneficial for applications that require a responsive user interface. For example, in graphical user interfaces (GUIs), one thread can handle user input and events, while another performs background tasks.\n",
    "\n",
    "4. **Resource Sharing:** Threads within the same process share the same address space, making it easy to share data between them. This can be more efficient than inter-process communication in terms of memory usage and speed.\n",
    "\n",
    "5. **Simplicity:** In some cases, multithreading can simplify the design of a program, particularly for applications with concurrent tasks that can be naturally divided into separate threads.\n",
    "\n",
    "#### Disadvantages of Multithreading:\n",
    "\n",
    "1. **Complexity:** Multithreading introduces complexity into a program. Dealing with synchronization, race conditions, and deadlocks can be challenging. Debugging and understanding the behavior of a multithreaded program can be more difficult than a single-threaded one.\n",
    "\n",
    "2. **Race Conditions:** Concurrent access to shared resources can lead to race conditions, where the final outcome depends on the timing of thread execution. Proper synchronization mechanisms are required to avoid data corruption and unexpected behavior.\n",
    "\n",
    "3. **Deadlocks:** Incorrectly implemented synchronization can lead to deadlocks, where threads are blocked indefinitely, waiting for each other to release resources. Deadlocks can be hard to detect and resolve.\n",
    "\n",
    "4. **Overhead:** Creating and managing threads incurs overhead in terms of memory and system resources. In some cases, the overhead of managing threads may outweigh the benefits, especially in lightweight tasks or on systems with limited resources.\n",
    "\n",
    "5. **Global Interpreter Lock (GIL):** In CPython, the Global Interpreter Lock prevents multiple native threads from executing Python bytecode in parallel. This limitation can hinder the performance improvement that multithreading might bring, particularly in CPU-bound tasks."
   ]
  },
  {
   "cell_type": "code",
   "execution_count": null,
   "metadata": {},
   "outputs": [],
   "source": []
  },
  {
   "cell_type": "markdown",
   "metadata": {},
   "source": [
    "### Q6. Explain deadlocks and race conditions."
   ]
  },
  {
   "cell_type": "markdown",
   "metadata": {},
   "source": [
    "**Deadlock:**\n",
    "A deadlock is a situation in which two or more threads or processes are unable to proceed because each is waiting for the other to release a resource. In other words, each thread holds a resource and waits for another resource acquired by some other thread. As a result, the threads are blocked indefinitely. Deadlocks are a common issue in concurrent programming and can be challenging to detect and resolve.\n",
    "\n",
    "**Race Condition:**\n",
    "A race condition occurs in a concurrent system when the final outcome of a program depends on the relative timing of events, such as the order in which threads are scheduled to run. These conditions arise when multiple threads access shared data or resources concurrently without proper synchronization, and at least one of the threads modifies the data."
   ]
  },
  {
   "cell_type": "code",
   "execution_count": null,
   "metadata": {},
   "outputs": [],
   "source": []
  }
 ],
 "metadata": {
  "kernelspec": {
   "display_name": "Python 3",
   "language": "python",
   "name": "python3"
  },
  "language_info": {
   "codemirror_mode": {
    "name": "ipython",
    "version": 3
   },
   "file_extension": ".py",
   "mimetype": "text/x-python",
   "name": "python",
   "nbconvert_exporter": "python",
   "pygments_lexer": "ipython3",
   "version": "3.10.11"
  }
 },
 "nbformat": 4,
 "nbformat_minor": 2
}
