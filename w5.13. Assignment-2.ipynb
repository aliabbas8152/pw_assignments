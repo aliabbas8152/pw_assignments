{
 "cells": [
  {
   "cell_type": "markdown",
   "metadata": {},
   "source": [
    "### Q1. Explain why we have to use the Exception class while creating a Custom Exception"
   ]
  },
  {
   "cell_type": "markdown",
   "metadata": {},
   "source": [
    "While creating a custom exception class we typically inherit from the Exception class because the Exception class is the base class for all built-in exceptions in python. By inheriting from the Exception class, the custom exception class will behave like a standard python exception."
   ]
  },
  {
   "cell_type": "code",
   "execution_count": null,
   "metadata": {},
   "outputs": [],
   "source": []
  },
  {
   "cell_type": "markdown",
   "metadata": {},
   "source": [
    "### Q2. Write a python program to print Python Exception Hierarchy."
   ]
  },
  {
   "cell_type": "code",
   "execution_count": 4,
   "metadata": {},
   "outputs": [
    {
     "name": "stdout",
     "output_type": "stream",
     "text": [
      "Number is not Positive.\n"
     ]
    }
   ],
   "source": [
    "# A program to check if a number is positive or not\n",
    "\n",
    "# a custom exception class \n",
    "class Positve_number(Exception):\n",
    "    def __init__(self, num):\n",
    "        self.num = num\n",
    "\n",
    "# method to check the number is positive or not\n",
    "def check_number(num):\n",
    "    if num<=0:\n",
    "        raise Positve_number(\"Number is not Positive.\")  \n",
    "    else:\n",
    "        print(\"Number is Positive.\")   \n",
    "\n",
    "# handling exceptions\n",
    "try:\n",
    "    num = int(input(\"Enter a number: \")) \n",
    "    check_number(num)\n",
    "except Positve_number as e:\n",
    "    print(e)            \n"
   ]
  },
  {
   "cell_type": "code",
   "execution_count": null,
   "metadata": {},
   "outputs": [],
   "source": []
  },
  {
   "cell_type": "markdown",
   "metadata": {},
   "source": [
    "### Q3. What errors are defined in the ArithmeticError class? Explain any two with an example."
   ]
  },
  {
   "cell_type": "markdown",
   "metadata": {},
   "source": [
    "The ArithmeticError class is a base class for those exceptions that are raised for various arithmetic errors such as:\n",
    "\n",
    "1. ZeroDivisionError: This error happens when the divider is zero in division. For example:\n"
   ]
  },
  {
   "cell_type": "code",
   "execution_count": 5,
   "metadata": {},
   "outputs": [
    {
     "name": "stdout",
     "output_type": "stream",
     "text": [
      "division by zero\n"
     ]
    }
   ],
   "source": [
    "try:\n",
    "    div = 10/0\n",
    "except ZeroDivisionError as e:\n",
    "    print(e)    "
   ]
  },
  {
   "cell_type": "markdown",
   "metadata": {},
   "source": [
    "2. OverflowError: This error happens when the result of an arithmetic operation is too large to be expressed by the usual number type. For Example:"
   ]
  },
  {
   "cell_type": "code",
   "execution_count": 16,
   "metadata": {},
   "outputs": [
    {
     "name": "stdout",
     "output_type": "stream",
     "text": [
      "math range error\n"
     ]
    }
   ],
   "source": [
    "try:\n",
    "    import math\n",
    "    result = math.exp(1000)\n",
    "except OverflowError as e:\n",
    "    print(e)\n"
   ]
  },
  {
   "cell_type": "code",
   "execution_count": null,
   "metadata": {},
   "outputs": [],
   "source": []
  },
  {
   "cell_type": "markdown",
   "metadata": {},
   "source": [
    "### Q4. Why LookupError class is used? Explain with an example KeyError and IndexError."
   ]
  },
  {
   "cell_type": "markdown",
   "metadata": {},
   "source": [
    "The LookupError class in Python is the base class for exceptions that are raised when a key or index used on a mapping or sequence is invalid. This includes the IndexError and KeyError exception classes.\n",
    "\n",
    "1. KeyError: This error is raised when you try to access a dictionary with a key that does not exist. For example:"
   ]
  },
  {
   "cell_type": "code",
   "execution_count": 19,
   "metadata": {},
   "outputs": [
    {
     "name": "stdout",
     "output_type": "stream",
     "text": [
      "KeyError 'email'\n"
     ]
    }
   ],
   "source": [
    "try:\n",
    "    my_dict = {'name': 'Ali', 'age': 22}\n",
    "    print(my_dict['email'])\n",
    "except KeyError as e:\n",
    "    print(\"KeyError\", e)\n"
   ]
  },
  {
   "cell_type": "markdown",
   "metadata": {},
   "source": [
    "2. IndexError: This error is raised when you try to access an index that does not exist. For example:"
   ]
  },
  {
   "cell_type": "code",
   "execution_count": 21,
   "metadata": {},
   "outputs": [
    {
     "name": "stdout",
     "output_type": "stream",
     "text": [
      "list index out of range\n"
     ]
    }
   ],
   "source": [
    "try:\n",
    "    my_list = [1, 2, 3]\n",
    "    print(my_list[5])\n",
    "except IndexError as e:\n",
    "    print(e)\n"
   ]
  },
  {
   "cell_type": "code",
   "execution_count": null,
   "metadata": {},
   "outputs": [],
   "source": []
  },
  {
   "cell_type": "markdown",
   "metadata": {},
   "source": [
    "### Q5. Explain ImportError. What is ModuleNotFoundError?"
   ]
  },
  {
   "cell_type": "markdown",
   "metadata": {},
   "source": [
    "* The ImportError in Python is raised when an import statement has trouble successfully importing the specified module. Typically, such a problem is due to an invalid or incorrect path.\n",
    "\n",
    "* ModuleNotFoundError is a subclass of ImportError. It is raised specifically when the module cannot be found at all. This usually happens because the package is not installed."
   ]
  },
  {
   "cell_type": "code",
   "execution_count": null,
   "metadata": {},
   "outputs": [],
   "source": []
  },
  {
   "cell_type": "markdown",
   "metadata": {},
   "source": [
    "### Q6. List down some best practices for exception handling in python. "
   ]
  },
  {
   "cell_type": "markdown",
   "metadata": {},
   "source": [
    "Some of the best practices for exception handling in python are as follow: \n",
    "\n",
    "* use always a specific exception\n",
    "* print always a valid message in except block\n",
    "* always try to log using logging\n",
    "* always avoid to write a multiple exception handling for one try block\n",
    "* always prepare a proper documentation\n",
    "* cleanup all the resources using finally block"
   ]
  },
  {
   "cell_type": "code",
   "execution_count": null,
   "metadata": {},
   "outputs": [],
   "source": []
  }
 ],
 "metadata": {
  "kernelspec": {
   "display_name": "Python 3",
   "language": "python",
   "name": "python3"
  },
  "language_info": {
   "codemirror_mode": {
    "name": "ipython",
    "version": 3
   },
   "file_extension": ".py",
   "mimetype": "text/x-python",
   "name": "python",
   "nbconvert_exporter": "python",
   "pygments_lexer": "ipython3",
   "version": "3.10.11"
  }
 },
 "nbformat": 4,
 "nbformat_minor": 2
}
