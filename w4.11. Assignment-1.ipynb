{
 "cells": [
  {
   "cell_type": "markdown",
   "metadata": {},
   "source": [
    "### Q1. Explain Class and Object with respect to Object-Oriented Programming. Give a suitable example"
   ]
  },
  {
   "cell_type": "markdown",
   "metadata": {},
   "source": [
    "A class is like a blueprint for creating objects. it defines the attributes and methods that the object of the class is going to have.\n",
    "\n",
    "An object on the other hand is an instance of a class. "
   ]
  },
  {
   "cell_type": "code",
   "execution_count": 3,
   "metadata": {},
   "outputs": [],
   "source": [
    "# defining a class\n",
    "class school:\n",
    "    def __init__(self):\n",
    "        print(\"Class has been created and instantiated.\")"
   ]
  },
  {
   "cell_type": "code",
   "execution_count": 4,
   "metadata": {},
   "outputs": [
    {
     "name": "stdout",
     "output_type": "stream",
     "text": [
      "Class has been created and instantiated.\n"
     ]
    }
   ],
   "source": [
    "# creating an object(instance) of the school class\n",
    "s = school()"
   ]
  },
  {
   "cell_type": "code",
   "execution_count": null,
   "metadata": {},
   "outputs": [],
   "source": []
  },
  {
   "cell_type": "markdown",
   "metadata": {},
   "source": [
    "### Q2. Name the four pillars of OOPs."
   ]
  },
  {
   "cell_type": "markdown",
   "metadata": {},
   "source": [
    "1. Inheritance\n",
    "2. Encapsulation\n",
    "3. Abstraction\n",
    "4. Polymorphism"
   ]
  },
  {
   "cell_type": "code",
   "execution_count": null,
   "metadata": {},
   "outputs": [],
   "source": []
  },
  {
   "cell_type": "markdown",
   "metadata": {},
   "source": [
    "### Q3. Explain why the __init__() function is used. Give a suitable example."
   ]
  },
  {
   "cell_type": "markdown",
   "metadata": {},
   "source": [
    "__init__ function is a special type of function that is called automatically when an object of the class is created. Which is also called Constructor."
   ]
  },
  {
   "cell_type": "code",
   "execution_count": 5,
   "metadata": {},
   "outputs": [
    {
     "name": "stdout",
     "output_type": "stream",
     "text": [
      "This special method is automatically called as soon as the object is created.\n"
     ]
    }
   ],
   "source": [
    "# Defining a class\n",
    "class Person:\n",
    "\n",
    "    # Creating constructor\n",
    "    def __init__(self):\n",
    "        print(\"This special method is automatically called as soon as the object is created.\")\n",
    "\n",
    "# Creating an object of the class Person \n",
    "obj = Person()"
   ]
  },
  {
   "cell_type": "code",
   "execution_count": null,
   "metadata": {},
   "outputs": [],
   "source": []
  },
  {
   "cell_type": "markdown",
   "metadata": {},
   "source": [
    "### Q4. Why self is used in OOPs?"
   ]
  },
  {
   "cell_type": "markdown",
   "metadata": {},
   "source": [
    "Self in python is like 'this' keyword in java. Self is used to represent the instance of a class i.e. it is used to refer to instance attributes and methods of a class."
   ]
  },
  {
   "cell_type": "code",
   "execution_count": null,
   "metadata": {},
   "outputs": [],
   "source": []
  },
  {
   "cell_type": "markdown",
   "metadata": {},
   "source": [
    "### Q5. What is inheritance? Give an example for each type of inheritance."
   ]
  },
  {
   "cell_type": "markdown",
   "metadata": {},
   "source": [
    "Inheritance is one of the four pillars of the OOP's. It allows a class(child class) to inherit the attributes and methods from another class(parent class). This is best for code reusabiliity.\n",
    "\n",
    "There are 5 types of inheritance.\n",
    "1. Single\n",
    "2. Multiple\n",
    "3. Multilevel\n",
    "4. Hierarchical\n",
    "5. Hybrid"
   ]
  },
  {
   "cell_type": "code",
   "execution_count": 7,
   "metadata": {},
   "outputs": [
    {
     "name": "stdout",
     "output_type": "stream",
     "text": [
      "This is Class A.\n",
      "This is Class B.\n"
     ]
    }
   ],
   "source": [
    "# 1. Single Inheritance\n",
    "\n",
    "class A:\n",
    "    def show_A(self):\n",
    "        print(\"This is Class A.\")\n",
    "\n",
    "class B(A):\n",
    "    def show_B(self):\n",
    "        print(\"This is Class B.\")\n",
    "\n",
    "# creating an object for B class which inherits the properties of A class\n",
    "obj = B()\n",
    "obj.show_A()\n",
    "obj.show_B()"
   ]
  },
  {
   "cell_type": "code",
   "execution_count": 9,
   "metadata": {},
   "outputs": [
    {
     "name": "stdout",
     "output_type": "stream",
     "text": [
      "This is Class A.\n",
      "This is Class B.\n",
      "This is Class C.\n"
     ]
    }
   ],
   "source": [
    "# 2. Multiple Inheritance\n",
    "\n",
    "class A:\n",
    "    def show_A(self):\n",
    "        print(\"This is Class A.\")\n",
    "\n",
    "class B:\n",
    "    def show_B(self):\n",
    "        print(\"This is Class B.\")\n",
    "\n",
    "class C(A, B):\n",
    "    def show_C(self):\n",
    "        print(\"This is Class C.\")\n",
    "\n",
    "# creating an object for C class which inherits the properties of A and B\n",
    "obj = C()\n",
    "obj.show_A()\n",
    "obj.show_B()\n",
    "obj.show_C()"
   ]
  },
  {
   "cell_type": "code",
   "execution_count": 17,
   "metadata": {},
   "outputs": [
    {
     "name": "stdout",
     "output_type": "stream",
     "text": [
      "This is Class A.\n",
      "This is Class B.\n",
      "\n",
      "This is Class A.\n",
      "This is Class B.\n",
      "This is Class C.\n"
     ]
    }
   ],
   "source": [
    "# 3. Multilevel Inheritance\n",
    "\n",
    "class A:\n",
    "    def show_A(self):\n",
    "        print(\"This is Class A.\")\n",
    "\n",
    "class B(A):\n",
    "    def show_B(self):\n",
    "        print(\"This is Class B.\")\n",
    "\n",
    "class C(B):\n",
    "    def show_C(self):\n",
    "        print(\"This is Class C.\")\n",
    "\n",
    "\n",
    "# creating an object for B class which inherits the properties of A \n",
    "obj = B()\n",
    "obj.show_A()\n",
    "obj.show_B()\n",
    "\n",
    "print()\n",
    "\n",
    "# creating an object for C class which inherits the properties of B\n",
    "obj = C()\n",
    "obj.show_A()\n",
    "obj.show_B()\n",
    "obj.show_C()"
   ]
  },
  {
   "cell_type": "code",
   "execution_count": 18,
   "metadata": {},
   "outputs": [
    {
     "name": "stdout",
     "output_type": "stream",
     "text": [
      "This is Class A.\n",
      "This is Class B.\n",
      "\n",
      "This is Class A.\n",
      "This is Class C.\n"
     ]
    }
   ],
   "source": [
    "# 4. Hierarchical Inheritance\n",
    "\n",
    "class A:\n",
    "    def show_A(self):\n",
    "        print(\"This is Class A.\")\n",
    "\n",
    "class B(A):\n",
    "    def show_B(self):\n",
    "        print(\"This is Class B.\")\n",
    "\n",
    "class C(A):\n",
    "    def show_C(self):\n",
    "        print(\"This is Class C.\")\n",
    "\n",
    "\n",
    "# creating an object for B class which inherits the properties of A \n",
    "obj = B()\n",
    "obj.show_A()\n",
    "obj.show_B()\n",
    "\n",
    "print()\n",
    "\n",
    "# creating an object for C class which inherits the properties of A\n",
    "obj = C()\n",
    "obj.show_A()\n",
    "obj.show_C()"
   ]
  },
  {
   "cell_type": "code",
   "execution_count": 19,
   "metadata": {},
   "outputs": [
    {
     "name": "stdout",
     "output_type": "stream",
     "text": [
      "This is Class A.\n",
      "This is Class B.\n",
      "\n",
      "This is Class A.\n",
      "This is Class C.\n",
      "\n",
      "This is Class A.\n",
      "This is Class B.\n",
      "This is Class C.\n",
      "This is Class D.\n"
     ]
    }
   ],
   "source": [
    "# 5. Hybrid Inheritance\n",
    "\n",
    "class A:\n",
    "    def show_A(self):\n",
    "        print(\"This is Class A.\")\n",
    "\n",
    "class B(A):\n",
    "    def show_B(self):\n",
    "        print(\"This is Class B.\")\n",
    "\n",
    "class C(A):\n",
    "    def show_C(self):\n",
    "        print(\"This is Class C.\")\n",
    "\n",
    "class D(B, C):\n",
    "    def show_D(self):\n",
    "        print(\"This is Class D.\")        \n",
    "\n",
    "\n",
    "# creating an object for B class which inherits the properties of A \n",
    "obj = B()\n",
    "obj.show_A()\n",
    "obj.show_B()\n",
    "\n",
    "print()\n",
    "\n",
    "# creating an object for C class which inherits the properties of A\n",
    "obj = C()\n",
    "obj.show_A()\n",
    "obj.show_C()\n",
    "\n",
    "print()\n",
    "\n",
    "# creating an object for D class which inherits the properties of B and C\n",
    "obj = D()\n",
    "obj.show_A()\n",
    "obj.show_B()\n",
    "obj.show_C()\n",
    "obj.show_D()"
   ]
  },
  {
   "cell_type": "code",
   "execution_count": null,
   "metadata": {},
   "outputs": [],
   "source": []
  }
 ],
 "metadata": {
  "kernelspec": {
   "display_name": "Python 3",
   "language": "python",
   "name": "python3"
  },
  "language_info": {
   "codemirror_mode": {
    "name": "ipython",
    "version": 3
   },
   "file_extension": ".py",
   "mimetype": "text/x-python",
   "name": "python",
   "nbconvert_exporter": "python",
   "pygments_lexer": "ipython3",
   "version": "3.10.11"
  }
 },
 "nbformat": 4,
 "nbformat_minor": 2
}
