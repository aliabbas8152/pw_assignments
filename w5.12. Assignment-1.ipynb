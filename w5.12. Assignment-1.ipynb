{
 "cells": [
  {
   "cell_type": "markdown",
   "metadata": {},
   "source": [
    "### Q1. What is an Exception in python? Write the difference between Exceptions and Syntax errors."
   ]
  },
  {
   "cell_type": "markdown",
   "metadata": {},
   "source": [
    "The exceptions in python are the runtime errors that occurs during the execution of a progaram. To handle those exceptions we can use try, except block."
   ]
  },
  {
   "cell_type": "markdown",
   "metadata": {},
   "source": [
    "Exceptions occurs during the runtime of a program.\n",
    "Synatax errors are detected before the execution of a progaram.\n",
    "\n",
    "Exceptions can be handled using try-except blocks.\n",
    "Syntax errors must be fixed before the execution of the program.\n",
    "\n",
    "Example of Exceptions are like ZeroDivisionError, IndexError, TypeError, etc.\n",
    "Example of Syntax errors are like missing the colon at the end of the statements, incorrect indentation, or using inavalid syntax etc."
   ]
  },
  {
   "cell_type": "code",
   "execution_count": null,
   "metadata": {},
   "outputs": [],
   "source": []
  },
  {
   "cell_type": "markdown",
   "metadata": {},
   "source": [
    "### Q2. What happens when an exception is not handled? Explain with an example."
   ]
  },
  {
   "cell_type": "markdown",
   "metadata": {},
   "source": [
    "When an exception is not handled, the program crashes and an error message is displayed and code written after will not be executed. Which will lead to the undesirable outcomes. "
   ]
  },
  {
   "cell_type": "code",
   "execution_count": 6,
   "metadata": {},
   "outputs": [
    {
     "ename": "ZeroDivisionError",
     "evalue": "division by zero",
     "output_type": "error",
     "traceback": [
      "\u001b[1;31m---------------------------------------------------------------------------\u001b[0m",
      "\u001b[1;31mZeroDivisionError\u001b[0m                         Traceback (most recent call last)",
      "\u001b[1;32mc:\\Codes\\pythonFiles\\Data Science PW\\Week-5\\w5.12. Assignment-1.ipynb Cell 7\u001b[0m line \u001b[0;36m7\n\u001b[0;32m      <a href='vscode-notebook-cell:/c%3A/Codes/pythonFiles/Data%20Science%20PW/Week-5/w5.12.%20Assignment-1.ipynb#X10sZmlsZQ%3D%3D?line=3'>4</a>\u001b[0m     \u001b[39mreturn\u001b[39;00m res\n\u001b[0;32m      <a href='vscode-notebook-cell:/c%3A/Codes/pythonFiles/Data%20Science%20PW/Week-5/w5.12.%20Assignment-1.ipynb#X10sZmlsZQ%3D%3D?line=5'>6</a>\u001b[0m \u001b[39m# this will result in ZeroDivisionError\u001b[39;00m\n\u001b[1;32m----> <a href='vscode-notebook-cell:/c%3A/Codes/pythonFiles/Data%20Science%20PW/Week-5/w5.12.%20Assignment-1.ipynb#X10sZmlsZQ%3D%3D?line=6'>7</a>\u001b[0m result \u001b[39m=\u001b[39m div(\u001b[39m10\u001b[39;49m, \u001b[39m0\u001b[39;49m)\n\u001b[0;32m      <a href='vscode-notebook-cell:/c%3A/Codes/pythonFiles/Data%20Science%20PW/Week-5/w5.12.%20Assignment-1.ipynb#X10sZmlsZQ%3D%3D?line=8'>9</a>\u001b[0m \u001b[39m# This line will not execute after getting an error\u001b[39;00m\n\u001b[0;32m     <a href='vscode-notebook-cell:/c%3A/Codes/pythonFiles/Data%20Science%20PW/Week-5/w5.12.%20Assignment-1.ipynb#X10sZmlsZQ%3D%3D?line=9'>10</a>\u001b[0m \u001b[39mprint\u001b[39m(\u001b[39m\"\u001b[39m\u001b[39mHello, this is Ali Abbas.\u001b[39m\u001b[39m\"\u001b[39m)\n",
      "\u001b[1;32mc:\\Codes\\pythonFiles\\Data Science PW\\Week-5\\w5.12. Assignment-1.ipynb Cell 7\u001b[0m line \u001b[0;36m3\n\u001b[0;32m      <a href='vscode-notebook-cell:/c%3A/Codes/pythonFiles/Data%20Science%20PW/Week-5/w5.12.%20Assignment-1.ipynb#X10sZmlsZQ%3D%3D?line=1'>2</a>\u001b[0m \u001b[39mdef\u001b[39;00m \u001b[39mdiv\u001b[39m(a, b):\n\u001b[1;32m----> <a href='vscode-notebook-cell:/c%3A/Codes/pythonFiles/Data%20Science%20PW/Week-5/w5.12.%20Assignment-1.ipynb#X10sZmlsZQ%3D%3D?line=2'>3</a>\u001b[0m     res \u001b[39m=\u001b[39m a\u001b[39m/\u001b[39;49mb\n\u001b[0;32m      <a href='vscode-notebook-cell:/c%3A/Codes/pythonFiles/Data%20Science%20PW/Week-5/w5.12.%20Assignment-1.ipynb#X10sZmlsZQ%3D%3D?line=3'>4</a>\u001b[0m     \u001b[39mreturn\u001b[39;00m res\n",
      "\u001b[1;31mZeroDivisionError\u001b[0m: division by zero"
     ]
    }
   ],
   "source": [
    "# A program before handling the exception \n",
    "def div(a, b):\n",
    "    res = a/b\n",
    "    return res\n",
    "\n",
    "# this will result in ZeroDivisionError\n",
    "result = div(10, 0)\n",
    "\n",
    "# This line will not execute after getting an error\n",
    "print(\"Hello, this is Ali Abbas.\")"
   ]
  },
  {
   "cell_type": "code",
   "execution_count": 7,
   "metadata": {},
   "outputs": [
    {
     "name": "stdout",
     "output_type": "stream",
     "text": [
      "division by zero\n",
      "Hello, this is Ali Abbas.\n"
     ]
    }
   ],
   "source": [
    "# A program after handling the exception\n",
    "def div(a, b):\n",
    "    try:\n",
    "        res = a/b\n",
    "        return res\n",
    "    except ZeroDivisionError as e:\n",
    "        print(e)\n",
    "\n",
    "# this will print the exception        \n",
    "result = div(10, 0)        \n",
    "\n",
    "# Now This line will be executed after getting an error\n",
    "print(\"Hello, this is Ali Abbas.\")"
   ]
  },
  {
   "cell_type": "code",
   "execution_count": null,
   "metadata": {},
   "outputs": [],
   "source": []
  },
  {
   "cell_type": "markdown",
   "metadata": {},
   "source": [
    "### Q3. Which Python statements are used to catch and handle exceptions?  Explain with an example."
   ]
  },
  {
   "cell_type": "markdown",
   "metadata": {},
   "source": [
    "In Python, the try-except block is used to catch and handle exceptions. \n",
    "\n",
    "The try block contains the code where exceptions might occur, and the except block is used to handle specific exceptions that occur within the try block."
   ]
  },
  {
   "cell_type": "code",
   "execution_count": 12,
   "metadata": {},
   "outputs": [
    {
     "name": "stdout",
     "output_type": "stream",
     "text": [
      "division by zero\n"
     ]
    }
   ],
   "source": [
    "try:\n",
    "    # This block of code might raise an exception\n",
    "    x = int(input(\"Enter a number: \"))\n",
    "    result = 10 / x\n",
    "    print(\"Result:\", result)\n",
    "\n",
    "except ZeroDivisionError as e:\n",
    "    print(e)"
   ]
  },
  {
   "cell_type": "code",
   "execution_count": null,
   "metadata": {},
   "outputs": [],
   "source": []
  },
  {
   "cell_type": "markdown",
   "metadata": {},
   "source": [
    "### Q4. Explain with an example:\n",
    "###     a. try and else\n",
    "###     b. finally\n",
    "###     c. raise"
   ]
  },
  {
   "cell_type": "markdown",
   "metadata": {},
   "source": [
    "a. try and else:\n",
    "The else block in a try-else statement is executed if no exceptions are raised in the try block.\n",
    "Example:"
   ]
  },
  {
   "cell_type": "code",
   "execution_count": 13,
   "metadata": {},
   "outputs": [
    {
     "name": "stdout",
     "output_type": "stream",
     "text": [
      "Result: 5.0\n",
      "No exceptions occured...\n"
     ]
    }
   ],
   "source": [
    "try:\n",
    "    # This block of code might raise an exception\n",
    "    x = int(input(\"Enter a number: \"))\n",
    "    result = 10 / x\n",
    "    print(\"Result:\", result)\n",
    "\n",
    "except ZeroDivisionError as e:\n",
    "    print(e)\n",
    "\n",
    "else:\n",
    "    print(\"No exceptions occured...\")    "
   ]
  },
  {
   "cell_type": "markdown",
   "metadata": {},
   "source": [
    "b. finally:\n",
    "The finally block is used to define code that must be executed, regardless of whether an exception occurred or not. Example:"
   ]
  },
  {
   "cell_type": "code",
   "execution_count": 14,
   "metadata": {},
   "outputs": [
    {
     "name": "stdout",
     "output_type": "stream",
     "text": [
      "division by zero\n",
      "This finally block will be executed no matter what happens...\n"
     ]
    }
   ],
   "source": [
    "try:\n",
    "    # This block of code might raise an exception\n",
    "    x = int(input(\"Enter a number: \"))\n",
    "    result = 10 / x\n",
    "    print(\"Result:\", result)\n",
    "\n",
    "except ZeroDivisionError as e:\n",
    "    print(e)\n",
    "\n",
    "else:\n",
    "    print(\"No exceptions occured...\")    \n",
    "\n",
    "finally:\n",
    "    print(\"This finally block will be executed no matter what happens...\")    "
   ]
  },
  {
   "cell_type": "markdown",
   "metadata": {},
   "source": [
    "c. raise:\n",
    "The raise statement is used to explicitly raise an exception in your code. Example:"
   ]
  },
  {
   "cell_type": "code",
   "execution_count": 15,
   "metadata": {},
   "outputs": [
    {
     "name": "stdout",
     "output_type": "stream",
     "text": [
      "This finally block will be executed no matter what happens...\n"
     ]
    },
    {
     "ename": "ValueError",
     "evalue": "Value must be Positive....",
     "output_type": "error",
     "traceback": [
      "\u001b[1;31m---------------------------------------------------------------------------\u001b[0m",
      "\u001b[1;31mValueError\u001b[0m                                Traceback (most recent call last)",
      "\u001b[1;32mc:\\Codes\\pythonFiles\\Data Science PW\\Week-5\\w5.12. Assignment-1.ipynb Cell 20\u001b[0m line \u001b[0;36m5\n\u001b[0;32m      <a href='vscode-notebook-cell:/c%3A/Codes/pythonFiles/Data%20Science%20PW/Week-5/w5.12.%20Assignment-1.ipynb#X26sZmlsZQ%3D%3D?line=2'>3</a>\u001b[0m x \u001b[39m=\u001b[39m \u001b[39mint\u001b[39m(\u001b[39minput\u001b[39m(\u001b[39m\"\u001b[39m\u001b[39mEnter a number: \u001b[39m\u001b[39m\"\u001b[39m))\n\u001b[0;32m      <a href='vscode-notebook-cell:/c%3A/Codes/pythonFiles/Data%20Science%20PW/Week-5/w5.12.%20Assignment-1.ipynb#X26sZmlsZQ%3D%3D?line=3'>4</a>\u001b[0m \u001b[39mif\u001b[39;00m x\u001b[39m<\u001b[39m\u001b[39m0\u001b[39m:\n\u001b[1;32m----> <a href='vscode-notebook-cell:/c%3A/Codes/pythonFiles/Data%20Science%20PW/Week-5/w5.12.%20Assignment-1.ipynb#X26sZmlsZQ%3D%3D?line=4'>5</a>\u001b[0m     \u001b[39mraise\u001b[39;00m \u001b[39mValueError\u001b[39;00m(\u001b[39m\"\u001b[39m\u001b[39mValue must be Positive....\u001b[39m\u001b[39m\"\u001b[39m)\n\u001b[0;32m      <a href='vscode-notebook-cell:/c%3A/Codes/pythonFiles/Data%20Science%20PW/Week-5/w5.12.%20Assignment-1.ipynb#X26sZmlsZQ%3D%3D?line=5'>6</a>\u001b[0m result \u001b[39m=\u001b[39m \u001b[39m10\u001b[39m \u001b[39m/\u001b[39m x\n\u001b[0;32m      <a href='vscode-notebook-cell:/c%3A/Codes/pythonFiles/Data%20Science%20PW/Week-5/w5.12.%20Assignment-1.ipynb#X26sZmlsZQ%3D%3D?line=6'>7</a>\u001b[0m \u001b[39mprint\u001b[39m(\u001b[39m\"\u001b[39m\u001b[39mResult:\u001b[39m\u001b[39m\"\u001b[39m, result)\n",
      "\u001b[1;31mValueError\u001b[0m: Value must be Positive...."
     ]
    }
   ],
   "source": [
    "try:\n",
    "    # This block of code might raise an exception\n",
    "    x = int(input(\"Enter a number: \"))\n",
    "    if x<0:\n",
    "        raise ValueError(\"Value must be Positive....\")\n",
    "    result = 10 / x\n",
    "    print(\"Result:\", result)\n",
    "\n",
    "except ZeroDivisionError as e:\n",
    "    print(e)\n",
    "\n",
    "else:\n",
    "    print(\"No exceptions occured...\")    \n",
    "\n",
    "finally:\n",
    "    print(\"This finally block will be executed no matter what happens...\")    "
   ]
  },
  {
   "cell_type": "code",
   "execution_count": null,
   "metadata": {},
   "outputs": [],
   "source": []
  },
  {
   "cell_type": "markdown",
   "metadata": {},
   "source": [
    "### Q5. What are Custom Exceptions in python? Why do we need Custom Exceptions? Explain with an example."
   ]
  },
  {
   "cell_type": "markdown",
   "metadata": {},
   "source": [
    "In Python, custom exceptions are user-defined exception class created by the programmer to represent specific error conditions in their code. \n",
    "\n",
    "We need custom exceptions for clarity and readability, modularity, debugging etc."
   ]
  },
  {
   "cell_type": "code",
   "execution_count": 18,
   "metadata": {},
   "outputs": [
    {
     "name": "stdout",
     "output_type": "stream",
     "text": [
      "Marks should not be lesser than 0.\n"
     ]
    }
   ],
   "source": [
    "# custom exception or user-defined exception for validating marks\n",
    "class marks(Exception):\n",
    "    def __init__(self, m):\n",
    "        self.m = m\n",
    "\n",
    "# method to check if marks is valid or not\n",
    "def validmarks(m):\n",
    "    if m < 0:\n",
    "        raise marks(\"Marks should not be lesser than 0.\")\n",
    "    elif m > 100:\n",
    "        raise marks(\"Marks should not be greater than 100.\")\n",
    "    else:\n",
    "        print(\"Marks is valid.\")\n",
    "\n",
    "# code to check if marks is valid or not by raising an exception from custom exception class 'marks'\n",
    "try:\n",
    "    mark = int(input(\"Enter your marks : \"))\n",
    "    validmarks(mark)\n",
    "except marks as e:\n",
    "    print(e)                    "
   ]
  },
  {
   "cell_type": "code",
   "execution_count": null,
   "metadata": {},
   "outputs": [],
   "source": []
  },
  {
   "cell_type": "markdown",
   "metadata": {},
   "source": [
    "### Q6. Create a custom exception class. Use this class to handle an exception."
   ]
  },
  {
   "cell_type": "code",
   "execution_count": 19,
   "metadata": {},
   "outputs": [
    {
     "name": "stdout",
     "output_type": "stream",
     "text": [
      "Age should not be greater than 100.\n"
     ]
    }
   ],
   "source": [
    "# custom exception or user-defined exception for validating age\n",
    "class validateage(Exception):\n",
    "    def __init__(self, msg):\n",
    "        self.msg = msg\n",
    "\n",
    "# method to check if age is valid or not\n",
    "def validate_age(age):\n",
    "    if age < 0:\n",
    "        raise validateage(\"Age should not be lesser than 0.\")\n",
    "    elif age == 0:\n",
    "        raise validateage(\"Age should be greater than 0.\")\n",
    "    elif age > 100:\n",
    "        raise validateage(\"Age should not be greater than 100.\")\n",
    "    else:\n",
    "        print(\"Age is valid.\")\n",
    "\n",
    "# code to check if age is valid or not by raising an exception from custom exception class 'validateage'\n",
    "try:\n",
    "    age = int(input(\"Enter your age : \"))\n",
    "    validate_age(age)\n",
    "except validateage as e:\n",
    "    print(e)                    "
   ]
  },
  {
   "cell_type": "code",
   "execution_count": null,
   "metadata": {},
   "outputs": [],
   "source": []
  }
 ],
 "metadata": {
  "kernelspec": {
   "display_name": "Python 3",
   "language": "python",
   "name": "python3"
  },
  "language_info": {
   "codemirror_mode": {
    "name": "ipython",
    "version": 3
   },
   "file_extension": ".py",
   "mimetype": "text/x-python",
   "name": "python",
   "nbconvert_exporter": "python",
   "pygments_lexer": "ipython3",
   "version": "3.10.11"
  }
 },
 "nbformat": 4,
 "nbformat_minor": 2
}
