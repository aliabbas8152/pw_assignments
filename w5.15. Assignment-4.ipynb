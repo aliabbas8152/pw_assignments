{
 "cells": [
  {
   "cell_type": "markdown",
   "metadata": {},
   "source": [
    "### Q1. What is multiprocessing in python? Why is it useful? "
   ]
  },
  {
   "cell_type": "markdown",
   "metadata": {},
   "source": [
    "Multiprocessing means running multiple processes concurrently, allowing for parallel execution of tasks. It is a way to achieve parallelism by using multiple processes rather than multiple threads.\n",
    "\n",
    "Some useful points of multiprocessing are as follows:\n",
    "1. Multiple processes have its own memory space. \n",
    "2. Execution of multiple tasks in parallel.\n",
    "3. Each process runs independently of others as they do not share memory.\n",
    "4. If one process crashes it does not affect other processes.\n",
    "5. Allows better utilization of CPU resources, especially on systems with multiple cores."
   ]
  },
  {
   "cell_type": "code",
   "execution_count": null,
   "metadata": {},
   "outputs": [],
   "source": []
  },
  {
   "cell_type": "markdown",
   "metadata": {},
   "source": [
    "### Q2. What are the differences between multiprocessing and multithreading?"
   ]
  },
  {
   "cell_type": "markdown",
   "metadata": {},
   "source": [
    "* In multiprocessing, processes have their own memory.\n",
    "* While In Multithreading, threads within the same process have the same memory.\n",
    "\t\n",
    "\n",
    "- In Multiprocessing, CPUs are added for increasing computing power.\n",
    "- While In Multithreading, many threads are created of a single process for increasing computing power.\n",
    "\n",
    "\n",
    "* In Multiprocessing, Many processes are executed simultaneously.\t\n",
    "* While in multithreading, many threads of a process are executed simultaneously.\n",
    "\n",
    "\n",
    "- Multiprocessing are classified into Symmetric and Asymmetric.\n",
    "- While Multithreading is not classified in any categories.\n",
    "\n",
    "\n",
    "* In Multiprocessing, Process creation is a time-consuming process.\t\n",
    "* While in Multithreading, process creation is according to economical.\n",
    "\n",
    "\t\n",
    "- In Multiprocessing, every process owned a separate address space.\t\n",
    "- While in Multithreading, a common address space is shared by all the threads."
   ]
  },
  {
   "cell_type": "code",
   "execution_count": null,
   "metadata": {},
   "outputs": [],
   "source": []
  },
  {
   "cell_type": "markdown",
   "metadata": {},
   "source": [
    "### Q3. Write a python code to create a process using the multiprocessing module."
   ]
  },
  {
   "cell_type": "code",
   "execution_count": null,
   "metadata": {},
   "outputs": [],
   "source": [
    "import multiprocessing\n",
    "import time\n",
    "\n",
    "# Function to be executed in the new process\n",
    "def print_numbers():\n",
    "    for i in range(5):\n",
    "        time.sleep(1)\n",
    "        print(f\"Process: {multiprocessing.current_process().name}, Count: {i}\")\n",
    "\n",
    "if __name__ == \"__main__\":\n",
    "    # Create a new process\n",
    "    my_process = multiprocessing.Process(target=print_numbers)\n",
    "\n",
    "    # Start the process\n",
    "    my_process.start()\n",
    "\n",
    "    # Wait for the process to finish (optional)\n",
    "    my_process.join()\n",
    "\n",
    "    print(\"Main process continues...\")\n",
    "\n",
    "\n",
    "# Output\n",
    "# Process: Process-1, Count: 0\n",
    "# Process: Process-1, Count: 1\n",
    "# Process: Process-1, Count: 2\n",
    "# Process: Process-1, Count: 3\n",
    "# Process: Process-1, Count: 4\n",
    "# Main process continues..."
   ]
  },
  {
   "cell_type": "code",
   "execution_count": null,
   "metadata": {},
   "outputs": [],
   "source": []
  },
  {
   "cell_type": "markdown",
   "metadata": {},
   "source": [
    "### Q4. What is a multiprocessing pool in python? Why is it used?"
   ]
  },
  {
   "cell_type": "markdown",
   "metadata": {},
   "source": [
    "A multiprocessing pool in Python is a way to distribute the execution of a function across multiple processes. \n",
    "The main idea behind using a multiprocessing pool is to create a pool of worker processes and distribute tasks to these workers concurrently, taking advantage of multi-core processors.\n",
    "\n",
    "Some of mulltiprocessing uses are as follows:\n",
    "1. Parallel Execution\n",
    "2. Simplified Interface\n",
    "3. Efficient Resource Utilization\n"
   ]
  },
  {
   "cell_type": "code",
   "execution_count": null,
   "metadata": {},
   "outputs": [],
   "source": []
  },
  {
   "cell_type": "markdown",
   "metadata": {},
   "source": [
    "### Q5. How can we create a pool of worker processes in python using the multiprocessing module?"
   ]
  },
  {
   "cell_type": "markdown",
   "metadata": {},
   "source": [
    "In Python, you can create a pool of worker processes using the Pool class from the multiprocessing module. The Pool class provides a high-level interface for parallelizing tasks. \n",
    "\n",
    "For Example:"
   ]
  },
  {
   "cell_type": "code",
   "execution_count": 2,
   "metadata": {},
   "outputs": [],
   "source": [
    "import multiprocessing\n",
    "\n",
    "# Function to be executed in parallel\n",
    "def square(x):\n",
    "    return x * x\n",
    "\n",
    "if __name__ == \"__main__\":\n",
    "    # Create a multiprocessing pool with 4 worker processes\n",
    "    with multiprocessing.Pool(processes=4) as pool:\n",
    "        # Input data\n",
    "        data = [1, 2, 3, 4, 5]\n",
    "\n",
    "        # Use the map function to apply the 'square' function to each element in 'data' in parallel\n",
    "        result = pool.map(square, data)\n",
    "\n",
    "        print(\"Original data:\", data)\n",
    "        print(\"Squared data:\", result)\n",
    "\n",
    "\n",
    "# Output\n",
    "# Original data: [1, 2, 3, 4, 5]\n",
    "# Squared data: [1, 4, 9, 16, 25]       "
   ]
  },
  {
   "cell_type": "code",
   "execution_count": null,
   "metadata": {},
   "outputs": [],
   "source": []
  },
  {
   "cell_type": "markdown",
   "metadata": {},
   "source": [
    "### Q6. Write a python program to create 4 processes, each process should print a different number using the multiprocessing module in python."
   ]
  },
  {
   "cell_type": "code",
   "execution_count": null,
   "metadata": {},
   "outputs": [],
   "source": [
    "import multiprocessing\n",
    "\n",
    "# Function to print a number\n",
    "def print_number(number):\n",
    "    print(f\"Process {multiprocessing.current_process().name} prints: {number}\")\n",
    "\n",
    "if __name__ == \"__main__\":\n",
    "    # Create a list of numbers\n",
    "    numbers = [1, 2, 3, 4]\n",
    "\n",
    "    # Create a pool of 4 processes\n",
    "    with multiprocessing.Pool(processes=4) as pool:\n",
    "        # Use the map function to apply the 'print_number' function to each element in 'numbers' in parallel\n",
    "        pool.map(print_number, numbers)\n",
    "\n",
    "\n",
    "\n",
    "# Output\n",
    "# Process SpawnPoolWorker-1 prints: 1\n",
    "# Process SpawnPoolWorker-1 prints: 2\n",
    "# Process SpawnPoolWorker-1 prints: 3\n",
    "# Process SpawnPoolWorker-1 prints: 4"
   ]
  }
 ],
 "metadata": {
  "kernelspec": {
   "display_name": "Python 3",
   "language": "python",
   "name": "python3"
  },
  "language_info": {
   "codemirror_mode": {
    "name": "ipython",
    "version": 3
   },
   "file_extension": ".py",
   "mimetype": "text/x-python",
   "name": "python",
   "nbconvert_exporter": "python",
   "pygments_lexer": "ipython3",
   "version": "3.10.11"
  }
 },
 "nbformat": 4,
 "nbformat_minor": 2
}
