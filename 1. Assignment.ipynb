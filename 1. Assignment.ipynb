{
 "cells": [
  {
   "cell_type": "code",
   "execution_count": 2,
   "id": "c4623d95-ed6a-4013-82a5-fb7a3a619699",
   "metadata": {},
   "outputs": [],
   "source": [
    "# Q1. Create one variable containing following type of data:\n",
    "\n",
    "# (i)\tstring\n",
    "\n",
    "# (ii)\tlist\n",
    "\n",
    "# (iii)\tfloat\n",
    "\n",
    "# (iv)\ttuple \n",
    "\n",
    "\n",
    "# Answer \n",
    "s = 'I am Ali Abbas'\n",
    "\n",
    "l = [1, 24, 165, -16, 26.2, 'ali', True, 0, 'Abbas', False]  \n",
    "\n",
    "f = 19.99\n",
    "\n",
    "t = (0, 1, 'Ali', -5, 3.5, True)"
   ]
  },
  {
   "cell_type": "code",
   "execution_count": 3,
   "id": "ff247dce-411f-4174-be27-f06fa6d02164",
   "metadata": {},
   "outputs": [
    {
     "data": {
      "text/plain": [
       "str"
      ]
     },
     "execution_count": 4,
     "metadata": {},
     "output_type": "execute_result"
    }
   ],
   "source": [
    "# Q2. Given are some following variables containing data:\n",
    "\n",
    "# (i)\tvar1 = ‘ ‘\n",
    "\n",
    "# (ii)\tvar2 = ‘[ DS , ML , Python]’\n",
    "\n",
    "# (iii)\tvar3 = [ ‘DS’ , ’ML’ , ‘Python’ ]\n",
    "\n",
    "# (iv)\tvar4 = 1.\n",
    "\n",
    "# Answer\n",
    "var1 = ''   # strng\n",
    "type(var1)"
   ]
  },
  {
   "cell_type": "code",
   "execution_count": 5,
   "id": "b1e7c5f6-37de-4dd1-86e8-0f52384e5319",
   "metadata": {},
   "outputs": [
    {
     "data": {
      "text/plain": [
       "str"
      ]
     },
     "execution_count": 5,
     "metadata": {},
     "output_type": "execute_result"
    }
   ],
   "source": [
    "var2 = '[ DS , ML , Python]'  # string\n",
    "type(var2)"
   ]
  },
  {
   "cell_type": "code",
   "execution_count": 6,
   "id": "ef7fbbcf-bf24-48e2-93c5-f11fb1bf7ba8",
   "metadata": {},
   "outputs": [
    {
     "data": {
      "text/plain": [
       "list"
      ]
     },
     "execution_count": 6,
     "metadata": {},
     "output_type": "execute_result"
    }
   ],
   "source": [
    "var3 = [ 'DS' , 'ML' , 'Python' ]   # list\n",
    "type(var3)"
   ]
  },
  {
   "cell_type": "code",
   "execution_count": 7,
   "id": "3101e97a-d30e-45d6-8e40-5c517dbebef9",
   "metadata": {},
   "outputs": [
    {
     "data": {
      "text/plain": [
       "int"
      ]
     },
     "execution_count": 7,
     "metadata": {},
     "output_type": "execute_result"
    }
   ],
   "source": [
    "var4 = 1     # integer\n",
    "type(var4)"
   ]
  },
  {
   "cell_type": "code",
   "execution_count": 8,
   "id": "7b372281-15f7-4aa6-846e-05fcfbdf26b2",
   "metadata": {},
   "outputs": [],
   "source": [
    "# Q3. Explain the use of the following operators using an example:\n",
    "\n",
    "# (i)\t/\n",
    "\n",
    "# (ii)\t% \n",
    "\n",
    "# (iii)\t//\n",
    "\n",
    "# (iv)\t**"
   ]
  },
  {
   "cell_type": "code",
   "execution_count": 9,
   "id": "6f5e8b72-dee0-4939-b36a-8e787d68684f",
   "metadata": {},
   "outputs": [
    {
     "data": {
      "text/plain": [
       "2.0"
      ]
     },
     "execution_count": 9,
     "metadata": {},
     "output_type": "execute_result"
    }
   ],
   "source": [
    "4/2      # this gives the value in floating point"
   ]
  },
  {
   "cell_type": "code",
   "execution_count": 10,
   "id": "51a999ed-b208-4e1f-af09-c850eb525a84",
   "metadata": {},
   "outputs": [
    {
     "data": {
      "text/plain": [
       "2"
      ]
     },
     "execution_count": 10,
     "metadata": {},
     "output_type": "execute_result"
    }
   ],
   "source": [
    "5%3      # this gives the remainder"
   ]
  },
  {
   "cell_type": "code",
   "execution_count": 11,
   "id": "3a3296e2-c3c7-4c50-b640-1927dfae64d4",
   "metadata": {},
   "outputs": [
    {
     "data": {
      "text/plain": [
       "2"
      ]
     },
     "execution_count": 11,
     "metadata": {},
     "output_type": "execute_result"
    }
   ],
   "source": [
    "4//2      # this gives the value in integer"
   ]
  },
  {
   "cell_type": "code",
   "execution_count": 12,
   "id": "3857b3f0-e476-4071-aef8-c128b24758f6",
   "metadata": {},
   "outputs": [
    {
     "data": {
      "text/plain": [
       "9"
      ]
     },
     "execution_count": 12,
     "metadata": {},
     "output_type": "execute_result"
    }
   ],
   "source": [
    "3**2      # this gives the exponential value"
   ]
  },
  {
   "cell_type": "code",
   "execution_count": 13,
   "id": "9e88486a-b61f-45c7-b49d-bd0d8d624378",
   "metadata": {},
   "outputs": [
    {
     "name": "stdout",
     "output_type": "stream",
     "text": [
      "1\n",
      "<class 'int'>\n",
      "24\n",
      "<class 'int'>\n",
      "16.5\n",
      "<class 'float'>\n",
      "-16\n",
      "<class 'int'>\n",
      "ali\n",
      "<class 'str'>\n",
      "True\n",
      "<class 'bool'>\n",
      "0\n",
      "<class 'int'>\n",
      "Abbas\n",
      "<class 'str'>\n",
      "False\n",
      "<class 'bool'>\n",
      "(29+6j)\n",
      "<class 'complex'>\n"
     ]
    }
   ],
   "source": [
    "#Q4. Create a list of length 10 of your choice containing multiple types of data. Using for loop print the element and its data type.\n",
    "\n",
    "# Answer\n",
    "\n",
    "l = [1, 24, 16.5, -16, 'ali', True, 0, 'Abbas', False, 29+6j] \n",
    "for i in l:\n",
    "    print(i)\n",
    "    print(type(i))"
   ]
  },
  {
   "cell_type": "code",
   "execution_count": 14,
   "id": "c87b70ae-8783-4e45-b721-e05acb3a4cc4",
   "metadata": {},
   "outputs": [
    {
     "name": "stdin",
     "output_type": "stream",
     "text": [
      "Enter A:  10\n",
      "Enter B:  2\n"
     ]
    },
    {
     "name": "stdout",
     "output_type": "stream",
     "text": [
      "10 is divisible by 2 exactly 5 times.\n"
     ]
    }
   ],
   "source": [
    "# Q5. Using a while loop, verify if the number A is purely divisible by number B and if so then how many times it can be divisible.\n",
    "\n",
    "# Answer\n",
    "\n",
    "A = int(input('Enter A: '))\n",
    "B = int(input('Enter B: '))\n",
    "\n",
    "while A % B == 0:\n",
    "    count = A // B\n",
    "    print(f'{A} is divisible by {B} exactly {count} times.') \n",
    "    break\n",
    "else:\n",
    "    print(f'{A} is not divisble by {B}.')       "
   ]
  },
  {
   "cell_type": "code",
   "execution_count": 15,
   "id": "0d9e03a7-877b-4264-a96e-d9863308296d",
   "metadata": {},
   "outputs": [
    {
     "name": "stdout",
     "output_type": "stream",
     "text": [
      "0 is divisible by 3\n",
      "1 is not divisible by 3\n",
      "2 is not divisible by 3\n",
      "3 is divisible by 3\n",
      "4 is not divisible by 3\n",
      "5 is not divisible by 3\n",
      "6 is divisible by 3\n",
      "7 is not divisible by 3\n",
      "8 is not divisible by 3\n",
      "9 is divisible by 3\n",
      "10 is not divisible by 3\n",
      "11 is not divisible by 3\n",
      "12 is divisible by 3\n",
      "13 is not divisible by 3\n",
      "14 is not divisible by 3\n",
      "15 is divisible by 3\n",
      "16 is not divisible by 3\n",
      "17 is not divisible by 3\n",
      "18 is divisible by 3\n",
      "19 is not divisible by 3\n",
      "20 is not divisible by 3\n",
      "21 is divisible by 3\n",
      "22 is not divisible by 3\n",
      "23 is not divisible by 3\n",
      "24 is divisible by 3\n"
     ]
    }
   ],
   "source": [
    "# Q6. Create a list containing 25 int type data. Using for loop and if-else condition print if the element is divisible by 3 or not.\n",
    "\n",
    "# Answer\n",
    "a = list(range(25))\n",
    "\n",
    "for i in a :\n",
    "    if i%3==0:\n",
    "        print(i, 'is divisible by 3')\n",
    "    else:\n",
    "        print(i, 'is not divisible by 3')    "
   ]
  },
  {
   "cell_type": "code",
   "execution_count": null,
   "id": "0334e916-a96c-4d37-b28b-41842b2119d6",
   "metadata": {},
   "outputs": [],
   "source": [
    "# Q7. What do you understand about mutable and immutable data types? Give examples for both showing this property.\n",
    "\n",
    "# Mutable: it means we can change the elements. example is list. that is we can change the elements inside the list. so, list is mutable.\n",
    "l = [1, 24, 16.5, -16, 'ali', True, 0, 'Abbas', False, 29+6j] \n",
    "\n",
    "l[1]= 'changing'\n",
    "\n",
    "l"
   ]
  }
 ],
 "metadata": {
  "kernelspec": {
   "display_name": "Python 3 (ipykernel)",
   "language": "python",
   "name": "python3"
  },
  "language_info": {
   "codemirror_mode": {
    "name": "ipython",
    "version": 3
   },
   "file_extension": ".py",
   "mimetype": "text/x-python",
   "name": "python",
   "nbconvert_exporter": "python",
   "pygments_lexer": "ipython3",
   "version": "3.10.8"
  }
 },
 "nbformat": 4,
 "nbformat_minor": 5
}
